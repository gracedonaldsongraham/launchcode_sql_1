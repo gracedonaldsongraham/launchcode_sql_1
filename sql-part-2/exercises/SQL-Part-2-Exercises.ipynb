{
    "cells": [
        {
            "attachments": {},
            "cell_type": "markdown",
            "metadata": {
                "azdata_cell_guid": "2b5a5976-8b51-4e24-a08d-234ef97f379a"
            },
            "source": [
                "# Exercises\n",
                "\n",
                "To get started with the exercises, go ahead and take a look at RideShareDB. This database was created with data from a dataset on [Kaggle](https://www.kaggle.com/fivethirtyeight/uber-pickups-in-new-york-city). The dataset was made using data obtained from the NYC Taxi and Limosine Commission or TLC. TLC tracks this data by base and even rideshare companies such as Uber and Lyft have assigned bases that each pickup must be attributed to. For the exercises, we will be using the `other_FHV_services_jan_aug_2015` and `lyft` tables in RideShareDB. These tables include the data for each pickup attributed to a few other For-Hire Vehicles (FHV) services and Lyft. These tables do not include any data from Uber.\n",
                "\n",
                "## String Functions\n",
                "\n",
                "Write a query that returns the last 3 characters of the base name in <span style=\"color: rgb(163, 21, 21); font-family: Menlo, Monaco, Consolas, &quot;Droid Sans Mono&quot;, &quot;Courier New&quot;, monospace, &quot;Droid Sans Fallback&quot;; font-size: 12px;\">other_FHV_services_jan_aug_2015</span><span style=\"color: var(--vscode-foreground);\">. Do you see anything that is a common abbreviation at the end of business names?</span>"
            ]
        },
        {
            "cell_type": "code",
            "execution_count": null,
            "metadata": {
                "azdata_cell_guid": "392f7b72-9acf-44a4-bb53-6c29090c5d75",
                "language": "sql",
                "tags": []
            },
            "outputs": [
                {
                    "data": {
                        "text/html": [
                            "Commands completed successfully."
                        ]
                    },
                    "metadata": {},
                    "output_type": "display_data"
                },
                {
                    "data": {
                        "text/html": [
                            "Total execution time: 00:00:00"
                        ]
                    },
                    "metadata": {},
                    "output_type": "display_data"
                }
            ],
            "source": [
                "SELECT RIGHT(Base_Name, 3)\n",
                "FROM RideShareDB.dbo.other_FHV_services_jan_aug_2015;\n",
                "-- INC is a very common abbreviation at the end of the business names returned "
            ]
        },
        {
            "attachments": {},
            "cell_type": "markdown",
            "metadata": {
                "azdata_cell_guid": "6c206898-77f4-4357-8d17-33192980f45d"
            },
            "source": [
                "The number of trips and the number of pickups are both stored as strings in <span style=\"color: rgb(163, 21, 21); font-family: Menlo, Monaco, Consolas, &quot;Droid Sans Mono&quot;, &quot;Courier New&quot;, monospace, &quot;Droid Sans Fallback&quot;; font-size: 12px;\">other_FHV_services_jan_aug_2015</span><span style=\"color: var(--vscode-foreground);\">. This is because the data provided included spaces in some of the numbers. Write a query that returns the location of spaces in both of these columns.</span>"
            ]
        },
        {
            "cell_type": "code",
            "execution_count": null,
            "metadata": {
                "azdata_cell_guid": "3c810c3d-4e66-447b-8326-19e59d8a1b88",
                "language": "sql"
            },
            "outputs": [
                {
                    "data": {
                        "text/html": [
                            "Commands completed successfully."
                        ]
                    },
                    "metadata": {},
                    "output_type": "display_data"
                },
                {
                    "data": {
                        "text/html": [
                            "Total execution time: 00:00:00"
                        ]
                    },
                    "metadata": {},
                    "output_type": "display_data"
                }
            ],
            "source": [
                "SELECT \n",
                "    CHARINDEX(' ', Number_of_Trips) AS Number_of_Trips_Space,\n",
                "    CHARINDEX(' ', Pick_Up_Date) AS Pick_Up_Date_Space\n",
                "FROM RideShareDB.dbo.other_FHV_services_jan_aug_2015;"
            ]
        },
        {
            "attachments": {},
            "cell_type": "markdown",
            "metadata": {
                "azdata_cell_guid": "b138ac53-9fff-4320-9ff1-08717873f2ee"
            },
            "source": [
                "## Date Functions\n",
                "\n",
                "For <span style=\"color: rgb(163, 21, 21); font-family: Menlo, Monaco, Consolas, &quot;Droid Sans Mono&quot;, &quot;Courier New&quot;, monospace, &quot;Droid Sans Fallback&quot;; font-size: 12px;\">other_FHV_services_jan_aug_2015</span><span style=\"color: var(--vscode-foreground);\">, display the name of month of the pickup date and order in descending order. Is the result of this query what you expected?</span>"
            ]
        },
        {
            "cell_type": "code",
            "execution_count": null,
            "metadata": {
                "azdata_cell_guid": "8abd404c-a360-4b10-8d6b-8b34ef763bc7",
                "language": "sql",
                "tags": []
            },
            "outputs": [
                {
                    "data": {
                        "text/html": [
                            "Commands completed successfully."
                        ]
                    },
                    "metadata": {},
                    "output_type": "display_data"
                },
                {
                    "data": {
                        "text/html": [
                            "Total execution time: 00:00:00"
                        ]
                    },
                    "metadata": {},
                    "output_type": "display_data"
                }
            ],
            "source": [
                "SELECT DATENAME(MONTH, Pick_Up_Date) AS 'Pick Up Month'\n",
                "FROM RideShareDB.dbo.other_FHV_services_jan_aug_2015\n",
                "ORDER BY Pick_Up_Date DESC;\n",
                "-- When it is ordered by ASC, it's in chronological order. WHen it is ordered by DESC it starts descending at August, not December\n",
                "-- Using the DISTINCT function, I discovered that the latest month recorded is August, which is why the descending order doesn't start at December\n",
                "Select DISTINCT DATENAME(MONTH, Pick_Up_Date)\n",
                "FROM RideShareDB.dbo.other_FHV_services_jan_aug_2015"
            ]
        },
        {
            "attachments": {},
            "cell_type": "markdown",
            "metadata": {
                "azdata_cell_guid": "aa6bf15c-b847-45f0-ba0d-79c7636c4578"
            },
            "source": [
                "Using <span style=\"color: rgb(163, 21, 21); font-family: Menlo, Monaco, Consolas, &quot;Droid Sans Mono&quot;, &quot;Courier New&quot;, monospace, &quot;Droid Sans Fallback&quot;; font-size: 12px;\">other_FHV_services_jan_aug_2015</span><span style=\"color: var(--vscode-foreground);\">, write a query that returns the day number of the pickup date and month name and orders it in ascending order by day number.</span>"
            ]
        },
        {
            "cell_type": "code",
            "execution_count": null,
            "metadata": {
                "azdata_cell_guid": "46dcd617-8dcf-4c15-b5fa-c0ec04f2bf29",
                "language": "sql"
            },
            "outputs": [
                {
                    "data": {
                        "text/html": [
                            "Commands completed successfully."
                        ]
                    },
                    "metadata": {},
                    "output_type": "display_data"
                },
                {
                    "data": {
                        "text/html": [
                            "Total execution time: 00:00:00"
                        ]
                    },
                    "metadata": {},
                    "output_type": "display_data"
                }
            ],
            "source": [
                "SELECT \n",
                "    DATENAME(Day, Pick_Up_Date),\n",
                "    DATENAME(Month, Pick_Up_Date)\n",
                "FROM RideShareDB.dbo.other_FHV_services_jan_aug_2015\n",
                "ORDER BY DATEPART(Day, Pick_Up_Date)"
            ]
        },
        {
            "attachments": {},
            "cell_type": "markdown",
            "metadata": {
                "azdata_cell_guid": "348342a2-6039-43b1-8461-841288deee94"
            },
            "source": [
                "## Aggregate Functions\n",
                "\n",
                "Write a query that returns the most easterly Lyft pickup."
            ]
        },
        {
            "cell_type": "code",
            "execution_count": null,
            "metadata": {
                "azdata_cell_guid": "f2cb1b41-c92a-47ea-bd77-7bafd78af1d4",
                "language": "sql",
                "tags": []
            },
            "outputs": [
                {
                    "data": {
                        "text/html": [
                            "Commands completed successfully."
                        ]
                    },
                    "metadata": {},
                    "output_type": "display_data"
                },
                {
                    "data": {
                        "text/html": [
                            "Total execution time: 00:00:00"
                        ]
                    },
                    "metadata": {},
                    "output_type": "display_data"
                }
            ],
            "source": [
                "SELECT TOP 1 *\n",
                "FROM RideShareDB.dbo.lyft\n",
                "WHERE start_lat IS NOT NULL\n",
                "ORDER BY start_lat DESC\n",
                "/* Wanted to write out my justification. Latitude, going left to right, would mark West (leftmost) to East (rightmost) location. \n",
                "So to get the most easterly location, I would need to capture the highest (rightmost) latitude \n",
                "Capturing the singular highest latitude means i needs to sort all latitudes in a descending order (that aren't null)\n",
                "then I want to select the top 1 value, which would be the highest (easternmost) latitude*/"
            ]
        },
        {
            "attachments": {},
            "cell_type": "markdown",
            "metadata": {
                "azdata_cell_guid": "bd589862-044d-4909-8565-8aa4771d9c00"
            },
            "source": [
                "Write a query the returns the most northerly Lyft pickup."
            ]
        },
        {
            "cell_type": "code",
            "execution_count": null,
            "metadata": {
                "azdata_cell_guid": "189b7c25-0dfa-4ca0-a683-d402b3875abd",
                "language": "sql"
            },
            "outputs": [
                {
                    "data": {
                        "text/html": [
                            "Commands completed successfully."
                        ]
                    },
                    "metadata": {},
                    "output_type": "display_data"
                },
                {
                    "data": {
                        "text/html": [
                            "Total execution time: 00:00:00"
                        ]
                    },
                    "metadata": {},
                    "output_type": "display_data"
                }
            ],
            "source": [
                "SELECT TOP 1 *\n",
                "FROM RideShareDB.dbo.lyft\n",
                "WHERE start_lng IS NOT NULL\n",
                "ORDER BY start_lng ASC\n",
                "/* same justification as above, but with longitude marking North to South going from top to bottom. \n",
                "So the most northly Lyft pickup would be the highest value in ascending order\n",
                "Because longitude and latitude both work from a starting point of zero, and out right? So for a northern longitude you would want it to be ascending, but if we were capturing a southern longitude, it would need to be descending*/"
            ]
        },
        {
            "attachments": {},
            "cell_type": "markdown",
            "metadata": {
                "azdata_cell_guid": "674f8758-14bf-4712-b029-0ad0447617fb"
            },
            "source": [
                "Using <span style=\"color: rgb(163, 21, 21); font-family: Menlo, Monaco, Consolas, &quot;Droid Sans Mono&quot;, &quot;Courier New&quot;, monospace, &quot;Droid Sans Fallback&quot;; font-size: 12px;\">other_FHV_services_jan_aug_2015</span><span style=\"color: var(--vscode-foreground);\">, write a query that connects the the base number and the base name in a string that uses the following format: base_number: base_name.</span>"
            ]
        },
        {
            "cell_type": "code",
            "execution_count": null,
            "metadata": {
                "azdata_cell_guid": "f6f4b247-63c0-4997-8769-204e37a55c08",
                "language": "sql"
            },
            "outputs": [
                {
                    "data": {
                        "text/html": [
                            "Commands completed successfully."
                        ]
                    },
                    "metadata": {},
                    "output_type": "display_data"
                },
                {
                    "data": {
                        "text/html": [
                            "Total execution time: 00:00:00"
                        ]
                    },
                    "metadata": {},
                    "output_type": "display_data"
                }
            ],
            "source": [
                "-- Ok, I tried to use COALESCE like in our Lesson, but I simply could not figure out how to make it work the way it is shown in the example. My digging continued to show that CONCAT was the simpler solution\n",
                "SELECT CONCAT(Base_Number, ':', Base_Name)\n",
                "FROM RideShareDB.dbo.other_FHV_services_jan_aug_2015;"
            ]
        }
    ],
    "metadata": {
        "kernelspec": {
            "display_name": "SQL",
            "language": "sql",
            "name": "SQL"
        },
        "language_info": {
            "name": "sql",
            "version": ""
        }
    },
    "nbformat": 4,
    "nbformat_minor": 2
}
